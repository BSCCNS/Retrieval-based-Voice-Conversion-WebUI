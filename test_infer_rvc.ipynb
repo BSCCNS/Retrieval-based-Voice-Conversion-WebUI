{
 "cells": [
  {
   "cell_type": "code",
   "execution_count": 6,
   "id": "7dc4e644",
   "metadata": {},
   "outputs": [
    {
     "name": "stdout",
     "output_type": "stream",
     "text": [
      "The autoreload extension is already loaded. To reload it, use:\n",
      "  %reload_ext autoreload\n"
     ]
    }
   ],
   "source": [
    "%load_ext autoreload\n",
    "%autoreload 2"
   ]
  },
  {
   "cell_type": "code",
   "execution_count": 8,
   "id": "e002e557",
   "metadata": {},
   "outputs": [],
   "source": [
    "from pathlib import Path\n",
    "import os\n",
    "\n",
    "from dotenv import load_dotenv\n",
    "from scipy.io import wavfile"
   ]
  },
  {
   "cell_type": "code",
   "execution_count": 9,
   "id": "d67f5519",
   "metadata": {},
   "outputs": [
    {
     "ename": "ModuleNotFoundError",
     "evalue": "No module named 'rvc'",
     "output_type": "error",
     "traceback": [
      "\u001b[0;31m---------------------------------------------------------------------------\u001b[0m",
      "\u001b[0;31mModuleNotFoundError\u001b[0m                       Traceback (most recent call last)",
      "Cell \u001b[0;32mIn[9], line 1\u001b[0m\n\u001b[0;32m----> 1\u001b[0m \u001b[38;5;28;01mfrom\u001b[39;00m \u001b[38;5;21;01minfer\u001b[39;00m\u001b[38;5;21;01m.\u001b[39;00m\u001b[38;5;21;01mmodules\u001b[39;00m\u001b[38;5;21;01m.\u001b[39;00m\u001b[38;5;21;01mvc_script\u001b[39;00m\u001b[38;5;21;01m.\u001b[39;00m\u001b[38;5;21;01mmodules\u001b[39;00m \u001b[38;5;28;01mimport\u001b[39;00m VC\n\u001b[1;32m      2\u001b[0m \u001b[38;5;66;03m#from rvc.modules.vc.modules import VC\u001b[39;00m\n\u001b[1;32m      4\u001b[0m load_dotenv()\n",
      "File \u001b[0;32m~/Documents/BSC/ICHOIR/fork/Retrieval-based-Voice-Conversion-WebUI/infer/modules/vc_script/modules.py:17\u001b[0m\n\u001b[1;32m     14\u001b[0m \u001b[38;5;66;03m#from rvc.configs.config import Config\u001b[39;00m\n\u001b[1;32m     15\u001b[0m \u001b[38;5;28;01mfrom\u001b[39;00m \u001b[38;5;21;01mconfigs\u001b[39;00m\u001b[38;5;21;01m.\u001b[39;00m\u001b[38;5;21;01mconfig\u001b[39;00m \u001b[38;5;28;01mimport\u001b[39;00m Config\n\u001b[0;32m---> 17\u001b[0m \u001b[38;5;28;01mfrom\u001b[39;00m \u001b[38;5;21;01mrvc\u001b[39;00m\u001b[38;5;21;01m.\u001b[39;00m\u001b[38;5;21;01mlib\u001b[39;00m\u001b[38;5;21;01m.\u001b[39;00m\u001b[38;5;21;01maudio\u001b[39;00m \u001b[38;5;28;01mimport\u001b[39;00m load_audio, wav2\n\u001b[1;32m     18\u001b[0m \u001b[38;5;28;01mfrom\u001b[39;00m \u001b[38;5;21;01mrvc\u001b[39;00m\u001b[38;5;21;01m.\u001b[39;00m\u001b[38;5;21;01mlib\u001b[39;00m\u001b[38;5;21;01m.\u001b[39;00m\u001b[38;5;21;01minfer_pack\u001b[39;00m\u001b[38;5;21;01m.\u001b[39;00m\u001b[38;5;21;01mmodels\u001b[39;00m \u001b[38;5;28;01mimport\u001b[39;00m (\n\u001b[1;32m     19\u001b[0m     SynthesizerTrnMs256NSFsid,\n\u001b[1;32m     20\u001b[0m     SynthesizerTrnMs256NSFsid_nono,\n\u001b[1;32m     21\u001b[0m     SynthesizerTrnMs768NSFsid,\n\u001b[1;32m     22\u001b[0m     SynthesizerTrnMs768NSFsid_nono,\n\u001b[1;32m     23\u001b[0m )\n\u001b[1;32m     24\u001b[0m \u001b[38;5;28;01mfrom\u001b[39;00m \u001b[38;5;21;01mrvc\u001b[39;00m\u001b[38;5;21;01m.\u001b[39;00m\u001b[38;5;21;01mmodules\u001b[39;00m\u001b[38;5;21;01m.\u001b[39;00m\u001b[38;5;21;01mvc\u001b[39;00m\u001b[38;5;21;01m.\u001b[39;00m\u001b[38;5;21;01mpipeline\u001b[39;00m \u001b[38;5;28;01mimport\u001b[39;00m Pipeline\n",
      "\u001b[0;31mModuleNotFoundError\u001b[0m: No module named 'rvc'"
     ]
    }
   ],
   "source": [
    "from infer.modules.vc_script.modules import VC\n",
    "#from rvc.modules.vc.modules import VC\n",
    "\n",
    "load_dotenv()"
   ]
  },
  {
   "cell_type": "code",
   "execution_count": 4,
   "id": "467abd08",
   "metadata": {},
   "outputs": [],
   "source": [
    "#root_input = '/Users/tomasandrade/Documents/BSC/ICHOIR/Retrieval-based-Voice-Conversion-WebUI'\n",
    "\n",
    "root_model = '/Users/tomasandrade/Documents/BSC/ICHOIR/Retrieval-based-Voice-Conversion/assets'\n",
    "root_output = '/Users/tomasandrade/Documents/BSC/ICHOIR/Retrieval-based-Voice-Conversion/output'\n",
    "\n",
    "model_name = 'maria-200_rmvpe_gpu'\n",
    "\n",
    "# model_pth = f'{root_web}/assets/weights/maria-20.pth'\n",
    "# index_file = f'{root_web}/logs/maria-20/added_IVF3808_Flat_nprobe_1_maria-20_v2.index'\n",
    "\n",
    "model_pth = f'{root_model}/{model_name}/{model_name}.pth'\n",
    "index_file = f'{root_model}/{model_name}/added_IVF3808_Flat_nprobe_1_maria-200-rmvpe_gpu_v2.index'\n",
    "\n",
    "hubert_path = f'{root_model}/hubert/hubert_base.pt'\n"
   ]
  },
  {
   "cell_type": "code",
   "execution_count": 5,
   "id": "6607703d",
   "metadata": {},
   "outputs": [
    {
     "ename": "TypeError",
     "evalue": "__init__() missing 1 required positional argument: 'config'",
     "output_type": "error",
     "traceback": [
      "\u001b[0;31m---------------------------------------------------------------------------\u001b[0m",
      "\u001b[0;31mTypeError\u001b[0m                                 Traceback (most recent call last)",
      "Cell \u001b[0;32mIn[5], line 1\u001b[0m\n\u001b[0;32m----> 1\u001b[0m vc \u001b[38;5;241m=\u001b[39m \u001b[43mVC\u001b[49m\u001b[43m(\u001b[49m\u001b[43m)\u001b[49m\n\u001b[1;32m      2\u001b[0m vc\u001b[38;5;241m.\u001b[39mget_vc(model_pth, index_file \u001b[38;5;241m=\u001b[39m index_file)\n",
      "\u001b[0;31mTypeError\u001b[0m: __init__() missing 1 required positional argument: 'config'"
     ]
    }
   ],
   "source": [
    "vc = VC()\n",
    "vc.get_vc(model_pth, index_file = index_file)"
   ]
  },
  {
   "cell_type": "code",
   "execution_count": 5,
   "id": "9c3b9542",
   "metadata": {},
   "outputs": [],
   "source": [
    "root_input = '/Users/tomasandrade/Documents/BSC/ICHOIR/Retrieval-based-Voice-Conversion/output'\n",
    "input_audio =  f'{root_input}/ame_campana_1.wav'\n",
    "#input_audio =  f'{root_input}/3_547.wav'"
   ]
  },
  {
   "cell_type": "code",
   "execution_count": 10,
   "id": "f83c7455",
   "metadata": {},
   "outputs": [
    {
     "name": "stderr",
     "output_type": "stream",
     "text": [
      "2025-01-06 01:56:41 | INFO | rvc.modules.vc.pipeline | Loading rmvpe model,assets/rmvpe/rmvpe.pt\n",
      "/Users/tomasandrade/Documents/BSC/ICHOIR/Retrieval-based-Voice-Conversion/rvc/lib/rmvpe.py:541: FutureWarning: You are using `torch.load` with `weights_only=False` (the current default value), which uses the default pickle module implicitly. It is possible to construct malicious pickle data which will execute arbitrary code during unpickling (See https://github.com/pytorch/pytorch/blob/main/SECURITY.md#untrusted-models for more details). In a future release, the default value for `weights_only` will be flipped to `True`. This limits the functions that could be executed during unpickling. Arbitrary objects will no longer be allowed to be loaded via this mode unless they are explicitly allowlisted by the user via `torch.serialization.add_safe_globals`. We recommend you start setting `weights_only=True` for any use case where you don't have full control of the loaded file. Please open an issue on GitHub for any issues related to this experimental feature.\n",
      "  ckpt = torch.load(model_path, map_location=\"cpu\")\n",
      "2025-01-06 01:56:42 | WARNING | rvc.modules.vc.modules | Traceback (most recent call last):\n",
      "  File \"/Users/tomasandrade/Documents/BSC/ICHOIR/Retrieval-based-Voice-Conversion/rvc/modules/vc/modules.py\", line 125, in vc_inference\n",
      "    audio_opt = self.pipeline.pipeline(\n",
      "  File \"/Users/tomasandrade/Documents/BSC/ICHOIR/Retrieval-based-Voice-Conversion/rvc/modules/vc/pipeline.py\", line 351, in pipeline\n",
      "    pitch, pitchf = self.get_f0(\n",
      "  File \"/Users/tomasandrade/Documents/BSC/ICHOIR/Retrieval-based-Voice-Conversion/rvc/modules/vc/pipeline.py\", line 150, in get_f0\n",
      "    f0 = self.model_rmvpe.infer_from_audio(x, thred=0.03)\n",
      "  File \"/Users/tomasandrade/Documents/BSC/ICHOIR/Retrieval-based-Voice-Conversion/rvc/lib/rmvpe.py\", line 594, in infer_from_audio\n",
      "    mel = self.mel_extractor(\n",
      "  File \"/Users/tomasandrade/miniconda3/envs/rvc/lib/python3.9/site-packages/torch/nn/modules/module.py\", line 1553, in _wrapped_call_impl\n",
      "    return self._call_impl(*args, **kwargs)\n",
      "  File \"/Users/tomasandrade/miniconda3/envs/rvc/lib/python3.9/site-packages/torch/nn/modules/module.py\", line 1562, in _call_impl\n",
      "    return forward_call(*args, **kwargs)\n",
      "  File \"/Users/tomasandrade/Documents/BSC/ICHOIR/Retrieval-based-Voice-Conversion/rvc/lib/rmvpe.py\", line 469, in forward\n",
      "    fft = torch.stft(\n",
      "  File \"/Users/tomasandrade/miniconda3/envs/rvc/lib/python3.9/site-packages/torch/functional.py\", line 666, in stft\n",
      "    return _VF.stft(input, n_fft, hop_length, win_length, window,  # type: ignore[attr-defined]\n",
      "RuntimeError: FFT operations are only supported on MacOS 14+\n",
      "\n"
     ]
    }
   ],
   "source": [
    "tgt_sr, audio_opt, times, _ = vc.vc_inference(1, Path(input_audio), \n",
    "                                                hubert_path = hubert_path,\n",
    "                                                f0_method = \"rmvpe\", #\"pm\",\n",
    "                                                f0_up_key = 0,\n",
    "                                                protect = 0.33) "
   ]
  },
  {
   "cell_type": "code",
   "execution_count": 8,
   "id": "b249c321",
   "metadata": {},
   "outputs": [],
   "source": [
    "#output_path = f'{root_output}/campana_by_{model_name}.wav'\n",
    "output_path = f'{root_output}/ame_campana_1_by_{model_name}.wav'\n",
    "wavfile.write(output_path, tgt_sr, audio_opt)"
   ]
  },
  {
   "cell_type": "code",
   "execution_count": 9,
   "id": "ff507ff2",
   "metadata": {},
   "outputs": [],
   "source": [
    "import numpy as np"
   ]
  },
  {
   "cell_type": "code",
   "execution_count": 10,
   "id": "b9a5600d",
   "metadata": {},
   "outputs": [
    {
     "data": {
      "text/plain": [
       "array([0.01 , 0.042, 0.074, 0.106, 0.138, 0.17 , 0.202, 0.234, 0.266,\n",
       "       0.298, 0.33 ])"
      ]
     },
     "execution_count": 10,
     "metadata": {},
     "output_type": "execute_result"
    }
   ],
   "source": [
    "protect_arr = np.linspace(0.01, 0.33, num=11)\n",
    "protect_arr"
   ]
  },
  {
   "cell_type": "code",
   "execution_count": 15,
   "id": "04276662",
   "metadata": {},
   "outputs": [
    {
     "name": "stdout",
     "output_type": "stream",
     "text": [
      "-------------- Working on protect = 0.01\n",
      "-------------- Working on protect = 0.042\n",
      "-------------- Working on protect = 0.074\n",
      "-------------- Working on protect = 0.106\n",
      "-------------- Working on protect = 0.138\n",
      "-------------- Working on protect = 0.17\n",
      "-------------- Working on protect = 0.202\n",
      "-------------- Working on protect = 0.234\n",
      "-------------- Working on protect = 0.266\n",
      "-------------- Working on protect = 0.29800000000000004\n",
      "-------------- Working on protect = 0.33\n"
     ]
    }
   ],
   "source": [
    "for protect in protect_arr:\n",
    "    print(f'-------------- Working on protect = {protect}')\n",
    "    tgt_sr, audio_opt, times, _ = vc.vc_inference(1, Path(input_audio), \n",
    "                                                hubert_path = hubert_path,\n",
    "                                                f0_method = \"pm\",\n",
    "                                                f0_up_key = 0,\n",
    "                                                protect=protect) \n",
    "\n",
    "    output_path = f'{root_output}/output/campana_protect_{protect:.3f}.wav'\n",
    "    wavfile.write(output_path, tgt_sr, audio_opt)"
   ]
  }
 ],
 "metadata": {
  "jupytext": {
   "formats": "ipynb,py:percent"
  },
  "kernelspec": {
   "display_name": "rvc",
   "language": "python",
   "name": "python3"
  },
  "language_info": {
   "codemirror_mode": {
    "name": "ipython",
    "version": 3
   },
   "file_extension": ".py",
   "mimetype": "text/x-python",
   "name": "python",
   "nbconvert_exporter": "python",
   "pygments_lexer": "ipython3",
   "version": "3.9.21"
  }
 },
 "nbformat": 4,
 "nbformat_minor": 5
}
